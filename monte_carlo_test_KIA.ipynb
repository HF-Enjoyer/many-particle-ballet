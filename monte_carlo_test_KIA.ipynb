{
 "cells": [
  {
   "cell_type": "code",
   "execution_count": 1,
   "metadata": {},
   "outputs": [],
   "source": [
    "import numpy as np\n",
    "import random\n",
    "from matplotlib import pyplot as plt"
   ]
  },
  {
   "cell_type": "code",
   "execution_count": 67,
   "metadata": {},
   "outputs": [],
   "source": [
    "# Functions\n",
    "\n",
    "def smart_randomizer(parts_num: dict, Shape: int): #initially requires parts dict, but in fact only number of particles is needed\n",
    "    coords2 = set()\n",
    "    parts = {}\n",
    "    j = 0\n",
    "    while len(coords2) != parts_num:\n",
    "        coords2.add((random.randint(1, Shape), random.randint(1, Shape)))\n",
    "    for i in coords2:\n",
    "        j += 1\n",
    "        parts.update({'part'+str(j): i})\n",
    "    return parts\n",
    "\n",
    "\n",
    "def dist(part1, part2):  \n",
    "    return np.sqrt((part1[0] - part2[0])**2 + (part1[1] - part2[1])**2)\n",
    "\n",
    "def pot_calc(parts):\n",
    "    a = [] # matrix of inverse distances of old configuration\n",
    "    for i in parts:\n",
    "        c = [] # generate an empty list to append it to a after filling\n",
    "        for j in parts:\n",
    "            if i == j:\n",
    "                c.append(0)\n",
    "            else:\n",
    "                c.append(1/dist(parts[i], parts[j]))\n",
    "        a.append(c)\n",
    "    pot = np.sum(np.array(a))/2\n",
    "    return pot*(-1)\n",
    "\n",
    "def jump_estimator(parts1, parts2, Temp):\n",
    "    # deltaE = pot_calc(parts2) - pot_calc(parts1)\n",
    "    if Temp == 0:\n",
    "        if (pot_calc(parts2)-pot_calc(parts1)) < 0:\n",
    "            return True\n",
    "        else: \n",
    "            return False\n",
    "    else:\n",
    "        Prob = np.exp((pot_calc(parts1)-pot_calc(parts2))/Temp)\n",
    "        u = random.uniform(0,1)\n",
    "        if u <= Prob:\n",
    "            return True\n",
    "        else:\n",
    "            return False\n"
   ]
  },
  {
   "cell_type": "code",
   "execution_count": 148,
   "metadata": {},
   "outputs": [
    {
     "name": "stdout",
     "output_type": "stream",
     "text": [
      "-8.944183665192142\n",
      "-15.65492753356822\n"
     ]
    }
   ],
   "source": [
    "# с тремя строчками ниже можно играться:\n",
    "\n",
    "iterations = 5000 # number of iterations (test)\n",
    "shp = 10 # shape of the lattice\n",
    "Parts_num = 9 # number of particles\n",
    "Temp = 0.05\n",
    "\n",
    "particles_init = smart_randomizer(Parts_num, shp)\n",
    "print(pot_calc(particles_init))\n",
    "coords_path = []\n",
    "part_now = particles_init\n",
    "coords_path.append(particles_init)\n",
    "i = 0\n",
    "energy_arr = []\n",
    "with open('out.txt', 'w') as outfile:\n",
    "    outfile.write(f'INITIAL: {particles_init} \\n')\n",
    "    while i <= iterations:\n",
    "        i += 1\n",
    "        part_rand = smart_randomizer(Parts_num, shp)\n",
    "        if jump_estimator(part_now, part_rand, Temp) == True:\n",
    "            outfile.write(f'NEW: {part_rand} \\nENERGY: {pot_calc(part_rand)} \\nJUMP? {jump_estimator(part_now, part_rand, Temp)} \\n')\n",
    "            part_now = part_rand\n",
    "        else:\n",
    "            outfile.write(f'NEW: {part_rand} \\nENERGY: {pot_calc(part_rand)} \\nJUMP? {jump_estimator(part_now, part_rand, Temp)} \\n')\n",
    "\n",
    "        energy_arr.append(pot_calc(part_now)) \n",
    "        coords_path.append(part_now)\n",
    "print(pot_calc(part_now))\n"
   ]
  },
  {
   "cell_type": "code",
   "execution_count": null,
   "metadata": {},
   "outputs": [],
   "source": [
    "fig, ax = plt.subplots(1, 2, figsize=(13, 6), sharey=True, sharex=False)\n",
    "\n",
    "for i in particles_init.values():\n",
    "    ax[0].plot(i[0], i[1], 'o', color='red')\n",
    "    ax[0].set_ylim(0, shp+1)\n",
    "    ax[0].set_xlim(0, shp+1)\n",
    "    ax[0].set_title('Before MC')\n",
    "    ax[0].set_xticks(np.arange(0, shp+1, 1))\n",
    "    ax[0].set_yticks(np.arange(0, shp+1, 1))\n",
    "for i in part_now.values():\n",
    "    ax[1].plot(i[0], i[1], 'o', color='red')\n",
    "    ax[1].set_ylim(0, shp+1)\n",
    "    ax[1].set_xlim(0, shp+1)\n",
    "    ax[1].set_title('After MC')\n",
    "    ax[1].set_xticks(np.arange(0, shp+1, 1))\n",
    "    ax[1].set_yticks(np.arange(0, shp+1, 1))\n",
    "ax[0].grid()\n",
    "ax[1].grid()\n",
    "plt.show()"
   ]
  },
  {
   "cell_type": "code",
   "execution_count": null,
   "metadata": {},
   "outputs": [],
   "source": [
    "plt.plot(energy_arr)\n",
    "print(len(energy_arr))\n",
    "plt.show()"
   ]
  },
  {
   "cell_type": "code",
   "execution_count": 149,
   "metadata": {},
   "outputs": [
    {
     "data": {
      "image/png": "[encoded data removed]",
      "text/plain": [
       "<Figure size 640x480 with 1 Axes>"
      ]
     },
     "metadata": {},
     "output_type": "display_data"
    }
   ],
   "source": [
    "from matplotlib.animation import FuncAnimation\n",
    "\n",
    "fig = plt.figure()\n",
    "ax = plt.axes()\n",
    "\n",
    "def animate(i):\n",
    "    ax.plot(coords_path[i][0], coords_path[i][1], 'o', color='red')\n",
    "\n",
    "ani = FuncAnimation(fig, animate, frames=iterations, interval=50)\n",
    "plt.show()\n"
   ]
  }
 ],
 "metadata": {
  "kernelspec": {
   "display_name": "Python 3",
   "language": "python",
   "name": "python3"
  },
  "language_info": {
   "codemirror_mode": {
    "name": "ipython",
    "version": 3
   },
   "file_extension": ".py",
   "mimetype": "text/x-python",
   "name": "python",
   "nbconvert_exporter": "python",
   "pygments_lexer": "ipython3",
   "version": "3.10.5"
  }
 },
 "nbformat": 4,
 "nbformat_minor": 2
}
